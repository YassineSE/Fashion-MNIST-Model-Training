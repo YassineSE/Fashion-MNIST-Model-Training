{
 "cells": [
  {
   "cell_type": "markdown",
   "id": "90308ec6",
   "metadata": {},
   "source": [
    "# Model Evaluation\n",
    "\n",
    "In this notebook, we are going to evaluate our model (plots, confusion matrix) and see if the results are sufficient to classify this dataset"
   ]
  },
  {
   "cell_type": "code",
   "execution_count": null,
   "id": "3c5b05fc",
   "metadata": {
    "is_executing": true
   },
   "outputs": [],
   "source": [
    "# Importing the necessary libraries\n",
    "import tensorflow as tf\n",
    "import matplotlib.pyplot as plt\n",
    "import numpy as np\n",
    "import pandas as pd\n",
    "from PIL import Image,ImageOps\n",
    "import glob"
   ]
  },
  {
   "cell_type": "markdown",
   "id": "7381cba3",
   "metadata": {},
   "source": [
    "## Importing the model:\n",
    "\n"
   ]
  },
  {
   "cell_type": "code",
   "execution_count": null,
   "id": "8fe59d61",
   "metadata": {
    "is_executing": true
   },
   "outputs": [],
   "source": [
    "model = tf.keras.models.load_model(\"./fashion_mnist_conv.h5\")"
   ]
  },
  {
   "cell_type": "markdown",
   "id": "ae5a2ca7",
   "metadata": {},
   "source": [
    "## Importing the training data"
   ]
  },
  {
   "cell_type": "code",
   "execution_count": 1,
   "id": "0beb8fcd",
   "metadata": {
    "ExecuteTime": {
     "end_time": "2023-11-28T11:10:19.496582818Z",
     "start_time": "2023-11-28T11:10:19.209652175Z"
    }
   },
   "outputs": [
    {
     "ename": "NameError",
     "evalue": "name 'pd' is not defined",
     "output_type": "error",
     "traceback": [
      "\u001B[0;31m---------------------------------------------------------------------------\u001B[0m",
      "\u001B[0;31mNameError\u001B[0m                                 Traceback (most recent call last)",
      "\u001B[0;32m/tmp/ipykernel_5900/3946136165.py\u001B[0m in \u001B[0;36m<module>\u001B[0;34m\u001B[0m\n\u001B[0;32m----> 1\u001B[0;31m \u001B[0mlog_data\u001B[0m \u001B[0;34m=\u001B[0m \u001B[0mpd\u001B[0m\u001B[0;34m.\u001B[0m\u001B[0mread_csv\u001B[0m\u001B[0;34m(\u001B[0m\u001B[0;34m'training.log'\u001B[0m\u001B[0;34m,\u001B[0m \u001B[0msep\u001B[0m\u001B[0;34m=\u001B[0m\u001B[0;34m','\u001B[0m\u001B[0;34m,\u001B[0m \u001B[0mengine\u001B[0m\u001B[0;34m=\u001B[0m\u001B[0;34m'python'\u001B[0m\u001B[0;34m)\u001B[0m\u001B[0;34m\u001B[0m\u001B[0;34m\u001B[0m\u001B[0m\n\u001B[0m\u001B[1;32m      2\u001B[0m \u001B[0mlog_data\u001B[0m\u001B[0;34m\u001B[0m\u001B[0;34m\u001B[0m\u001B[0m\n",
      "\u001B[0;31mNameError\u001B[0m: name 'pd' is not defined"
     ]
    }
   ],
   "source": [
    "log_data = pd.read_csv('training.log', sep=',', engine='python')\n",
    "log_data"
   ]
  },
  {
   "cell_type": "code",
   "execution_count": null,
   "id": "abae20a5",
   "metadata": {
    "ExecuteTime": {
     "start_time": "2023-11-28T11:10:19.430315506Z"
    }
   },
   "outputs": [],
   "source": [
    "plt.plot(log_data[\"epoch\"], log_data[\"accuracy\"], label=\"Accuracy\")\n",
    "plt.plot(log_data[\"epoch\"], log_data[\"loss\"], label=\"Loss\")\n",
    "plt.title(\"Model History\")\n",
    "plt.legend();"
   ]
  },
  {
   "cell_type": "markdown",
   "id": "d425e049",
   "metadata": {},
   "source": [
    "We notice that the model's accuracy converges to 1 which is a good indication of its performance."
   ]
  },
  {
   "cell_type": "markdown",
   "id": "2df8ee67",
   "metadata": {},
   "source": [
    "## Testing the model with real pictures\n",
    "\n",
    "let's create a directory with real images to test our model"
   ]
  },
  {
   "cell_type": "code",
   "execution_count": null,
   "id": "69440440",
   "metadata": {
    "ExecuteTime": {
     "start_time": "2023-11-28T11:10:19.430933554Z"
    }
   },
   "outputs": [],
   "source": [
    "# First let's put the classes names:\n",
    "classes = [\n",
    "    \"t-shirt\",\n",
    "    \"trouser\",\n",
    "    \"pullover\",\n",
    "    \"dress\",\n",
    "    \"coat\",\n",
    "    \"sandal\",\n",
    "    \"shirt\",\n",
    "    \"sneaker\",\n",
    "    \"bag\",\n",
    "    \"ankle boot\"\n",
    "]"
   ]
  },
  {
   "cell_type": "code",
   "execution_count": null,
   "id": "21784986",
   "metadata": {
    "ExecuteTime": {
     "start_time": "2023-11-28T11:10:19.431701467Z"
    }
   },
   "outputs": [],
   "source": [
    "test_image = np.array(ImageOps.invert(Image.open(\"./test_tshirt.jpg.jpg\").convert(\"L\")))\n",
    "test_image.shape"
   ]
  },
  {
   "cell_type": "code",
   "execution_count": null,
   "id": "99df4112",
   "metadata": {
    "ExecuteTime": {
     "start_time": "2023-11-28T11:10:19.432513120Z"
    }
   },
   "outputs": [],
   "source": [
    "def predict_images(directory = \"test_images\"):\n",
    "    image_list = [Image.open(item) for i in [glob.glob('/test_images*.%s' % ext) for ext in [\"jpg\",\"gif\",\"png\",\"tga\"]] for item in i]\n",
    "    return image_list"
   ]
  },
  {
   "cell_type": "code",
   "execution_count": null,
   "id": "331234a4",
   "metadata": {
    "ExecuteTime": {
     "start_time": "2023-11-28T11:10:19.432883823Z"
    }
   },
   "outputs": [],
   "source": [
    "for i in glob.glob(\"./test_images/*.jpg\"):\n",
    "    print(i)\n",
    "[i for i in glob.glob(\"./test_images/*.\")]"
   ]
  }
 ],
 "metadata": {
  "kernelspec": {
   "display_name": "Python 3 (ipykernel)",
   "language": "python",
   "name": "python3"
  },
  "language_info": {
   "codemirror_mode": {
    "name": "ipython",
    "version": 3
   },
   "file_extension": ".py",
   "mimetype": "text/x-python",
   "name": "python",
   "nbconvert_exporter": "python",
   "pygments_lexer": "ipython3",
   "version": "3.9.13"
  },
  "toc": {
   "base_numbering": 1,
   "nav_menu": {},
   "number_sections": true,
   "sideBar": true,
   "skip_h1_title": false,
   "title_cell": "Table of Contents",
   "title_sidebar": "Contents",
   "toc_cell": false,
   "toc_position": {},
   "toc_section_display": true,
   "toc_window_display": false
  }
 },
 "nbformat": 4,
 "nbformat_minor": 5
}
