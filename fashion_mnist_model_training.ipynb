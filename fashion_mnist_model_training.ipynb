{
 "cells": [
  {
   "cell_type": "code",
   "execution_count": 3,
   "id": "520ff873",
   "metadata": {},
   "outputs": [],
   "source": [
    "import tensorflow as tf"
   ]
  },
  {
   "cell_type": "code",
   "execution_count": 4,
   "id": "82e9bdd2",
   "metadata": {},
   "outputs": [],
   "source": [
    "data = tf.keras.datasets.fashion_mnist\n",
    "(training_images, training_labels), (test_images, test_labels) = data.load_data()\n",
    "training_images = training_images.reshape(60000, 28, 28, 1)\n",
    "training_images = training_images / 255.0\n",
    "test_images = test_images.reshape(10000, 28, 28, 1)\n",
    "test_images = test_images / 255.0"
   ]
  },
  {
   "cell_type": "code",
   "execution_count": 5,
   "id": "d4ec9aca",
   "metadata": {
    "scrolled": true
   },
   "outputs": [
    {
     "name": "stdout",
     "output_type": "stream",
     "text": [
      "Epoch 1/50\n",
      "1875/1875 [==============================] - 22s 12ms/step - loss: 0.4473 - accuracy: 0.8360\n",
      "Epoch 2/50\n",
      "1875/1875 [==============================] - 22s 12ms/step - loss: 0.2978 - accuracy: 0.8901\n",
      "Epoch 3/50\n",
      "1875/1875 [==============================] - 22s 11ms/step - loss: 0.2465 - accuracy: 0.9075\n",
      "Epoch 4/50\n",
      "1875/1875 [==============================] - 22s 12ms/step - loss: 0.2154 - accuracy: 0.9199\n",
      "Epoch 5/50\n",
      "1875/1875 [==============================] - 24s 13ms/step - loss: 0.1890 - accuracy: 0.9293\n",
      "Epoch 6/50\n",
      "1875/1875 [==============================] - 22s 12ms/step - loss: 0.1675 - accuracy: 0.9366\n",
      "Epoch 7/50\n",
      "1875/1875 [==============================] - 26s 14ms/step - loss: 0.1463 - accuracy: 0.9455\n",
      "Epoch 8/50\n",
      "1875/1875 [==============================] - 22s 12ms/step - loss: 0.1283 - accuracy: 0.9525\n",
      "Epoch 9/50\n",
      "1875/1875 [==============================] - 22s 11ms/step - loss: 0.1125 - accuracy: 0.9574\n",
      "Epoch 10/50\n",
      "1875/1875 [==============================] - 25s 13ms/step - loss: 0.0989 - accuracy: 0.9628\n",
      "Epoch 11/50\n",
      "1875/1875 [==============================] - 23s 12ms/step - loss: 0.0899 - accuracy: 0.9662\n",
      "Epoch 12/50\n",
      "1875/1875 [==============================] - 20s 11ms/step - loss: 0.0805 - accuracy: 0.9694\n",
      "Epoch 13/50\n",
      "1875/1875 [==============================] - 24s 13ms/step - loss: 0.0688 - accuracy: 0.9739\n",
      "Epoch 14/50\n",
      "1875/1875 [==============================] - 22s 12ms/step - loss: 0.0630 - accuracy: 0.9756\n",
      "Epoch 15/50\n",
      "1875/1875 [==============================] - 22s 12ms/step - loss: 0.0575 - accuracy: 0.9783\n",
      "Epoch 16/50\n",
      "1875/1875 [==============================] - 24s 13ms/step - loss: 0.0515 - accuracy: 0.9808\n",
      "Epoch 17/50\n",
      "1875/1875 [==============================] - 22s 12ms/step - loss: 0.0489 - accuracy: 0.9811\n",
      "Epoch 18/50\n",
      "1875/1875 [==============================] - 24s 13ms/step - loss: 0.0440 - accuracy: 0.9840\n",
      "Epoch 19/50\n",
      "1875/1875 [==============================] - 23s 12ms/step - loss: 0.0418 - accuracy: 0.9841\n",
      "Epoch 20/50\n",
      "1875/1875 [==============================] - 22s 12ms/step - loss: 0.0380 - accuracy: 0.9867\n",
      "Epoch 21/50\n",
      "1875/1875 [==============================] - 24s 13ms/step - loss: 0.0369 - accuracy: 0.9864\n",
      "Epoch 22/50\n",
      "1875/1875 [==============================] - 22s 12ms/step - loss: 0.0328 - accuracy: 0.9878\n",
      "Epoch 23/50\n",
      "1875/1875 [==============================] - 23s 12ms/step - loss: 0.0343 - accuracy: 0.9878\n",
      "Epoch 24/50\n",
      "1875/1875 [==============================] - 24s 13ms/step - loss: 0.0288 - accuracy: 0.9893\n",
      "Epoch 25/50\n",
      "1875/1875 [==============================] - 29s 15ms/step - loss: 0.0289 - accuracy: 0.9894\n",
      "Epoch 26/50\n",
      "1875/1875 [==============================] - 24s 13ms/step - loss: 0.0303 - accuracy: 0.9889\n",
      "Epoch 27/50\n",
      "1875/1875 [==============================] - 20s 11ms/step - loss: 0.0282 - accuracy: 0.9903\n",
      "Epoch 28/50\n",
      "1875/1875 [==============================] - 23s 12ms/step - loss: 0.0264 - accuracy: 0.9905\n",
      "Epoch 29/50\n",
      "1875/1875 [==============================] - 22s 12ms/step - loss: 0.0239 - accuracy: 0.9912\n",
      "Epoch 30/50\n",
      "1875/1875 [==============================] - 23s 12ms/step - loss: 0.0282 - accuracy: 0.9898\n",
      "Epoch 31/50\n",
      "1875/1875 [==============================] - 24s 13ms/step - loss: 0.0222 - accuracy: 0.9919\n",
      "Epoch 32/50\n",
      "1875/1875 [==============================] - 22s 12ms/step - loss: 0.0227 - accuracy: 0.9923\n",
      "Epoch 33/50\n",
      "1875/1875 [==============================] - 24s 13ms/step - loss: 0.0267 - accuracy: 0.9906\n",
      "Epoch 34/50\n",
      "1875/1875 [==============================] - 22s 12ms/step - loss: 0.0224 - accuracy: 0.9925\n",
      "Epoch 35/50\n",
      "1875/1875 [==============================] - 23s 12ms/step - loss: 0.0212 - accuracy: 0.9927\n",
      "Epoch 36/50\n",
      "1875/1875 [==============================] - 24s 13ms/step - loss: 0.0219 - accuracy: 0.9922\n",
      "Epoch 37/50\n",
      "1875/1875 [==============================] - 22s 12ms/step - loss: 0.0225 - accuracy: 0.9923\n",
      "Epoch 38/50\n",
      "1875/1875 [==============================] - 24s 13ms/step - loss: 0.0213 - accuracy: 0.9934\n",
      "Epoch 39/50\n",
      "1875/1875 [==============================] - 23s 12ms/step - loss: 0.0237 - accuracy: 0.9921\n",
      "Epoch 40/50\n",
      "1875/1875 [==============================] - 23s 12ms/step - loss: 0.0199 - accuracy: 0.9933\n",
      "Epoch 41/50\n",
      "1875/1875 [==============================] - 25s 13ms/step - loss: 0.0216 - accuracy: 0.9930\n",
      "Epoch 42/50\n",
      "1875/1875 [==============================] - 22s 12ms/step - loss: 0.0187 - accuracy: 0.9938\n",
      "Epoch 43/50\n",
      "1875/1875 [==============================] - 25s 13ms/step - loss: 0.0187 - accuracy: 0.9935\n",
      "Epoch 44/50\n",
      "1875/1875 [==============================] - 22s 12ms/step - loss: 0.0176 - accuracy: 0.9941\n",
      "Epoch 45/50\n",
      "1875/1875 [==============================] - 23s 12ms/step - loss: 0.0210 - accuracy: 0.9929\n",
      "Epoch 46/50\n",
      "1875/1875 [==============================] - 23s 12ms/step - loss: 0.0187 - accuracy: 0.9939\n",
      "Epoch 47/50\n",
      "1875/1875 [==============================] - 22s 12ms/step - loss: 0.0163 - accuracy: 0.9948\n",
      "Epoch 48/50\n",
      "1875/1875 [==============================] - 24s 13ms/step - loss: 0.0223 - accuracy: 0.9930\n",
      "Epoch 49/50\n",
      "1875/1875 [==============================] - 22s 12ms/step - loss: 0.0184 - accuracy: 0.9939\n",
      "Epoch 50/50\n",
      "1875/1875 [==============================] - 23s 12ms/step - loss: 0.0169 - accuracy: 0.9950\n"
     ]
    },
    {
     "data": {
      "text/plain": [
       "<keras.src.callbacks.History at 0x7fe1249c3040>"
      ]
     },
     "execution_count": 5,
     "metadata": {},
     "output_type": "execute_result"
    }
   ],
   "source": [
    "model = tf.keras.models.Sequential([\n",
    "    tf.keras.layers.Conv2D(64, (3, 3), activation='relu',\n",
    "    input_shape=(28, 28, 1)),\n",
    "    tf.keras.layers.MaxPooling2D(2, 2),\n",
    "    tf.keras.layers.Conv2D(64, (3, 3), activation='relu'),\n",
    "    tf.keras.layers.MaxPooling2D(2,2),\n",
    "    tf.keras.layers.Flatten(),\n",
    "    tf.keras.layers.Dense(128, activation=tf.nn.relu),\n",
    "    tf.keras.layers.Dense(10, activation=tf.nn.softmax)\n",
    "])\n",
    "\n",
    "\n",
    "model.compile(\n",
    "    optimizer='adam',\n",
    "    loss='sparse_categorical_crossentropy',\n",
    "    metrics=['accuracy'])\n",
    "\n",
    "model.fit(training_images, training_labels, epochs=50)"
   ]
  },
  {
   "cell_type": "code",
   "execution_count": 8,
   "id": "f6670fd3",
   "metadata": {},
   "outputs": [
    {
     "name": "stdout",
     "output_type": "stream",
     "text": [
      "313/313 [==============================] - 1s 4ms/step - loss: 0.9315 - accuracy: 0.9058\n"
     ]
    },
    {
     "data": {
      "text/plain": [
       "[0.9315260648727417, 0.9057999849319458]"
      ]
     },
     "execution_count": 8,
     "metadata": {},
     "output_type": "execute_result"
    }
   ],
   "source": [
    "model.evaluate(test_images, test_labels)"
   ]
  },
  {
   "cell_type": "code",
   "execution_count": 10,
   "id": "5c2b34ec",
   "metadata": {},
   "outputs": [],
   "source": [
    "model.save(\"./fashion_mnist_conv.h5\")"
   ]
  }
 ],
 "metadata": {
  "kernelspec": {
   "display_name": "Python 3 (ipykernel)",
   "language": "python",
   "name": "python3"
  },
  "language_info": {
   "codemirror_mode": {
    "name": "ipython",
    "version": 3
   },
   "file_extension": ".py",
   "mimetype": "text/x-python",
   "name": "python",
   "nbconvert_exporter": "python",
   "pygments_lexer": "ipython3",
   "version": "3.9.13"
  },
  "toc": {
   "base_numbering": 1,
   "nav_menu": {},
   "number_sections": true,
   "sideBar": true,
   "skip_h1_title": false,
   "title_cell": "Table of Contents",
   "title_sidebar": "Contents",
   "toc_cell": false,
   "toc_position": {},
   "toc_section_display": true,
   "toc_window_display": false
  }
 },
 "nbformat": 4,
 "nbformat_minor": 5
}
