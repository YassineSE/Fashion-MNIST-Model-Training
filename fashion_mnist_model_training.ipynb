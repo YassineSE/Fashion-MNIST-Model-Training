{
 "cells": [
  {
   "cell_type": "markdown",
   "id": "3f5697e2",
   "metadata": {},
   "source": [
    "# Introduction\n",
    "\n",
    "In this repository, we are trying to build a Convolutional Neural Network to classify the images of the **Fashion MNIST** dataset.\n"
   ]
  },
  {
   "cell_type": "code",
   "execution_count": 1,
   "id": "520ff873",
   "metadata": {},
   "outputs": [
    {
     "name": "stderr",
     "output_type": "stream",
     "text": [
      "2023-11-08 09:12:42.968026: I tensorflow/core/util/port.cc:110] oneDNN custom operations are on. You may see slightly different numerical results due to floating-point round-off errors from different computation orders. To turn them off, set the environment variable `TF_ENABLE_ONEDNN_OPTS=0`.\n",
      "2023-11-08 09:12:42.995767: I tensorflow/core/platform/cpu_feature_guard.cc:182] This TensorFlow binary is optimized to use available CPU instructions in performance-critical operations.\n",
      "To enable the following instructions: AVX2 AVX512F AVX512_VNNI FMA, in other operations, rebuild TensorFlow with the appropriate compiler flags.\n"
     ]
    }
   ],
   "source": [
    "# Importing the necessary libraries\n",
    "import tensorflow as tf\n",
    "import matplotlib.pyplot as plt\n",
    "import numpy as np\n",
    "import random\n",
    "from keras.callbacks import CSVLogger"
   ]
  },
  {
   "cell_type": "markdown",
   "id": "aa5d24bd",
   "metadata": {},
   "source": [
    "# Importing the model\n",
    "\n",
    "The model is part of the Tensorflow datasets. Importing it is as easy as doing: "
   ]
  },
  {
   "cell_type": "code",
   "execution_count": 2,
   "id": "bc9f789d",
   "metadata": {},
   "outputs": [],
   "source": [
    "data = tf.keras.datasets.fashion_mnist"
   ]
  },
  {
   "cell_type": "markdown",
   "id": "af32face",
   "metadata": {},
   "source": [
    "# Training and Test Sets\n",
    "\n",
    "We divide our data into sets: training and testing.\n",
    "The dataset has a preloaded function that does this job: `load_data()`"
   ]
  },
  {
   "cell_type": "code",
   "execution_count": 3,
   "id": "8eff4099",
   "metadata": {},
   "outputs": [],
   "source": [
    "(training_images, training_labels), (test_images, test_labels) = data.load_data()"
   ]
  },
  {
   "cell_type": "markdown",
   "id": "869a87f8",
   "metadata": {},
   "source": [
    "## Visualizing our data"
   ]
  },
  {
   "cell_type": "markdown",
   "id": "83626243",
   "metadata": {},
   "source": [
    "Each training and test example is assigned to one of the following labels:\n",
    "\n",
    "| Label | Description |\n",
    "| --- | --- |\n",
    "| 0 | T-shirt/top |\n",
    "| 1 | Trouser |\n",
    "| 2 | Pullover |\n",
    "| 3 | Dress |\n",
    "| 4 | Coat |\n",
    "| 5 | Sandal |\n",
    "| 6 | Shirt |\n",
    "| 7 | Sneaker |\n",
    "| 8 | Bag |\n",
    "| 9 | Ankle boot |\n"
   ]
  },
  {
   "cell_type": "code",
   "execution_count": 4,
   "id": "d35d109b",
   "metadata": {},
   "outputs": [],
   "source": [
    "# Creating Class Names\n",
    "\n",
    "class_names = [\n",
    "    \"T-shirt/top\",\n",
    "    \"Trouser\",\n",
    "    \"Pullover\",\n",
    "    \"Dress\",\n",
    "    \"Coat\",\n",
    "    \"Sandal\",\n",
    "    \"Shirt\",\n",
    "    \"Sneaker\",\n",
    "    \"Bag\",\n",
    "    \"Ankle boot\"\n",
    "]"
   ]
  },
  {
   "cell_type": "code",
   "execution_count": 5,
   "id": "4694b96e",
   "metadata": {},
   "outputs": [
    {
     "data": {
      "image/png": "[encoded data removed]",
      "text/plain": [
       "<Figure size 700x700 with 4 Axes>"
      ]
     },
     "metadata": {},
     "output_type": "display_data"
    }
   ],
   "source": [
    "# Let's plot random images\n",
    "\n",
    "plt.figure(figsize=(7,7))\n",
    "for i in range(4):\n",
    "    ax = plt.subplot(2,2,i+1)\n",
    "    rand_index = random.choice(range(len(training_images)))\n",
    "    plt.imshow(training_images[rand_index], cmap=plt.cm.binary)\n",
    "    plt.title(class_names[training_labels[rand_index]])\n",
    "    plt.axis(False)"
   ]
  },
  {
   "cell_type": "markdown",
   "id": "91af341d",
   "metadata": {},
   "source": [
    "# Data Preprocessing"
   ]
  },
  {
   "cell_type": "code",
   "execution_count": 6,
   "id": "82e9bdd2",
   "metadata": {},
   "outputs": [],
   "source": [
    "training_images = training_images.reshape(60000, 28, 28, 1)\n",
    "training_images = training_images / 255.0\n",
    "test_images = test_images.reshape(10000, 28, 28, 1)\n",
    "test_images = test_images / 255.0"
   ]
  },
  {
   "cell_type": "markdown",
   "id": "e814296a",
   "metadata": {},
   "source": [
    "# Building the Model"
   ]
  },
  {
   "cell_type": "code",
   "execution_count": 7,
   "id": "b2db25a9",
   "metadata": {},
   "outputs": [],
   "source": [
    "# Create a Callback to save the training data in a csv file\n",
    "csv_logger = CSVLogger('training.log', separator=',', append=False)"
   ]
  },
  {
   "cell_type": "code",
   "execution_count": 11,
   "id": "d4ec9aca",
   "metadata": {
    "scrolled": true
   },
   "outputs": [
    {
     "name": "stdout",
     "output_type": "stream",
     "text": [
      "Epoch 1/30\n",
      "1875/1875 [==============================] - 29s 15ms/step - loss: 0.4392 - accuracy: 0.8418\n",
      "Epoch 2/30\n",
      "1875/1875 [==============================] - 37s 20ms/step - loss: 0.2903 - accuracy: 0.8939\n",
      "Epoch 3/30\n",
      "1875/1875 [==============================] - 38s 21ms/step - loss: 0.2479 - accuracy: 0.9078\n",
      "Epoch 4/30\n",
      "1875/1875 [==============================] - 38s 21ms/step - loss: 0.2144 - accuracy: 0.9194\n",
      "Epoch 5/30\n",
      "1875/1875 [==============================] - 29s 15ms/step - loss: 0.1865 - accuracy: 0.9308\n",
      "Epoch 6/30\n",
      "1875/1875 [==============================] - 28s 15ms/step - loss: 0.1631 - accuracy: 0.9397\n",
      "Epoch 7/30\n",
      "1875/1875 [==============================] - 28s 15ms/step - loss: 0.1408 - accuracy: 0.9475\n",
      "Epoch 8/30\n",
      "1875/1875 [==============================] - 34s 18ms/step - loss: 0.1235 - accuracy: 0.9526\n",
      "Epoch 9/30\n",
      "1875/1875 [==============================] - 36s 19ms/step - loss: 0.1078 - accuracy: 0.9594\n",
      "Epoch 10/30\n",
      "1875/1875 [==============================] - 43s 23ms/step - loss: 0.0954 - accuracy: 0.9644\n",
      "Epoch 11/30\n",
      "1875/1875 [==============================] - 41s 22ms/step - loss: 0.0820 - accuracy: 0.9690\n",
      "Epoch 12/30\n",
      "1875/1875 [==============================] - 38s 20ms/step - loss: 0.0750 - accuracy: 0.9714\n",
      "Epoch 13/30\n",
      "1875/1875 [==============================] - 38s 20ms/step - loss: 0.0641 - accuracy: 0.9761\n",
      "Epoch 14/30\n",
      "1875/1875 [==============================] - 38s 20ms/step - loss: 0.0587 - accuracy: 0.9782\n",
      "Epoch 15/30\n",
      "1875/1875 [==============================] - 313s 167ms/step - loss: 0.0526 - accuracy: 0.9801\n",
      "Epoch 16/30\n",
      "1875/1875 [==============================] - 22s 12ms/step - loss: 0.0483 - accuracy: 0.9820\n",
      "Epoch 17/30\n",
      "1875/1875 [==============================] - 20s 11ms/step - loss: 0.0424 - accuracy: 0.9844\n",
      "Epoch 18/30\n",
      "1875/1875 [==============================] - 20s 11ms/step - loss: 0.0433 - accuracy: 0.9840\n",
      "Epoch 19/30\n",
      "1875/1875 [==============================] - 20s 11ms/step - loss: 0.0382 - accuracy: 0.9862\n",
      "Epoch 20/30\n",
      "1875/1875 [==============================] - 22s 12ms/step - loss: 0.0372 - accuracy: 0.9861\n",
      "Epoch 21/30\n",
      "1875/1875 [==============================] - 22s 12ms/step - loss: 0.0324 - accuracy: 0.9880\n",
      "Epoch 22/30\n",
      "1875/1875 [==============================] - 24s 13ms/step - loss: 0.0324 - accuracy: 0.9881\n",
      "Epoch 23/30\n",
      "1875/1875 [==============================] - 24s 13ms/step - loss: 0.0290 - accuracy: 0.9895\n",
      "Epoch 24/30\n",
      "1875/1875 [==============================] - 23s 12ms/step - loss: 0.0292 - accuracy: 0.9892\n",
      "Epoch 25/30\n",
      "1875/1875 [==============================] - 23s 12ms/step - loss: 0.0296 - accuracy: 0.9894\n",
      "Epoch 26/30\n",
      "1875/1875 [==============================] - 30s 16ms/step - loss: 0.0284 - accuracy: 0.9903\n",
      "Epoch 27/30\n",
      "1875/1875 [==============================] - 24s 13ms/step - loss: 0.0270 - accuracy: 0.9905\n",
      "Epoch 28/30\n",
      "1875/1875 [==============================] - 22s 12ms/step - loss: 0.0257 - accuracy: 0.9908\n",
      "Epoch 29/30\n",
      "1875/1875 [==============================] - 22s 12ms/step - loss: 0.0245 - accuracy: 0.9912\n",
      "Epoch 30/30\n",
      "1875/1875 [==============================] - 13215s 7s/step - loss: 0.0216 - accuracy: 0.9926\n"
     ]
    }
   ],
   "source": [
    "# Build\n",
    "model = tf.keras.models.Sequential([\n",
    "    tf.keras.layers.Conv2D(64, (3, 3), activation='relu',\n",
    "    input_shape=(28, 28, 1)),\n",
    "    tf.keras.layers.MaxPooling2D(2, 2),\n",
    "    tf.keras.layers.Conv2D(64, (3, 3), activation='relu'),\n",
    "    tf.keras.layers.MaxPooling2D(2,2),\n",
    "    tf.keras.layers.Flatten(),\n",
    "    tf.keras.layers.Dense(128, activation=tf.nn.relu),\n",
    "    tf.keras.layers.Dense(10, activation=tf.nn.softmax)\n",
    "])\n",
    "\n",
    "# Compile\n",
    "model.compile(\n",
    "    optimizer='adam',\n",
    "    loss='sparse_categorical_crossentropy',\n",
    "    metrics=['accuracy'])\n",
    "\n",
    "# Fit (for 50 epochs because we have all the time in the world :P )\n",
    "history = model.fit(training_images, training_labels, epochs=30, callbacks=[csv_logger])"
   ]
  },
  {
   "cell_type": "markdown",
   "id": "e2b95e25",
   "metadata": {},
   "source": [
    "# Evaluating our model"
   ]
  },
  {
   "cell_type": "code",
   "execution_count": 9,
   "id": "f6670fd3",
   "metadata": {},
   "outputs": [
    {
     "name": "stdout",
     "output_type": "stream",
     "text": [
      "313/313 [==============================] - 2s 6ms/step - loss: 0.3433 - accuracy: 0.9068\n"
     ]
    }
   ],
   "source": [
    "x = model.evaluate(test_images, test_labels)"
   ]
  },
  {
   "cell_type": "markdown",
   "id": "d6a4ab76",
   "metadata": {},
   "source": [
    "# Saving the model for further use"
   ]
  },
  {
   "cell_type": "code",
   "execution_count": 10,
   "id": "5c2b34ec",
   "metadata": {},
   "outputs": [
    {
     "name": "stderr",
     "output_type": "stream",
     "text": [
      "/home/yassine/anaconda3/lib/python3.9/site-packages/keras/src/engine/training.py:3000: UserWarning: You are saving your model as an HDF5 file via `model.save()`. This file format is considered legacy. We recommend using instead the native Keras format, e.g. `model.save('my_model.keras')`.\n",
      "  saving_api.save_model(\n"
     ]
    }
   ],
   "source": [
    "model.save(\"./fashion_mnist_conv.h5\")"
   ]
  }
 ],
 "metadata": {
  "kernelspec": {
   "display_name": "Python 3 (ipykernel)",
   "language": "python",
   "name": "python3"
  },
  "language_info": {
   "codemirror_mode": {
    "name": "ipython",
    "version": 3
   },
   "file_extension": ".py",
   "mimetype": "text/x-python",
   "name": "python",
   "nbconvert_exporter": "python",
   "pygments_lexer": "ipython3",
   "version": "3.9.13"
  },
  "toc": {
   "base_numbering": 1,
   "nav_menu": {},
   "number_sections": true,
   "sideBar": true,
   "skip_h1_title": false,
   "title_cell": "Table of Contents",
   "title_sidebar": "Contents",
   "toc_cell": false,
   "toc_position": {},
   "toc_section_display": true,
   "toc_window_display": false
  }
 },
 "nbformat": 4,
 "nbformat_minor": 5
}
